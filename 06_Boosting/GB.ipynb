{
 "cells": [
  {
   "cell_type": "markdown",
   "metadata": {},
   "source": [
    "## Boosting: Fit and evaluate a model\n",
    "\n",
    "Using the Titanic dataset from [this](https://www.kaggle.com/c/titanic/overview) Kaggle competition.\n",
    "\n",
    "In this section, we will fit and evaluate a simple Gradient Boosting model."
   ]
  },
  {
   "cell_type": "markdown",
   "metadata": {},
   "source": [
    "### Read in Data"
   ]
  },
  {
   "cell_type": "code",
   "execution_count": 1,
   "metadata": {},
   "outputs": [],
   "source": [
    "import joblib\n",
    "import pandas as pd\n",
    "from sklearn.ensemble import GradientBoostingClassifier\n",
    "from sklearn.model_selection import GridSearchCV\n",
    "import warnings\n",
    "warnings.filterwarnings('ignore', category=FutureWarning)\n",
    "warnings.filterwarnings('ignore', category=DeprecationWarning)\n",
    "\n",
    "tr_features = pd.read_csv('C:/Users/VK/MLPython/Ex_Files_Machine_Learning_Algorithms/train_features.csv')\n",
    "tr_labels = pd.read_csv('C:/Users/VK/MLPython/Ex_Files_Machine_Learning_Algorithms/train_labels.csv')"
   ]
  },
  {
   "cell_type": "markdown",
   "metadata": {},
   "source": [
    "### Hyperparameter tuning\n",
    "\n",
    "![GB](../../img/gb.png)"
   ]
  },
  {
   "cell_type": "code",
   "execution_count": 2,
   "metadata": {},
   "outputs": [],
   "source": [
    "def print_results(results):\n",
    "    print('BEST PARAMS: {}\\n'.format(results.best_params_))\n",
    "\n",
    "    means = results.cv_results_['mean_test_score']\n",
    "    stds = results.cv_results_['std_test_score']\n",
    "    for mean, std, params in zip(means, stds, results.cv_results_['params']):\n",
    "        print('{} (+/-{}) for {}'.format(round(mean, 3), round(std * 2, 3), params))"
   ]
  },
  {
   "cell_type": "code",
   "execution_count": 3,
   "metadata": {},
   "outputs": [
    {
     "name": "stdout",
     "output_type": "stream",
     "text": [
      "BEST PARAMS: {'learning_rate': 0.01, 'max_depth': 3, 'n_estimators': 500}\n",
      "\n",
      "0.624 (+/-0.007) for {'learning_rate': 0.01, 'max_depth': 1, 'n_estimators': 5}\n",
      "0.796 (+/-0.115) for {'learning_rate': 0.01, 'max_depth': 1, 'n_estimators': 50}\n",
      "0.796 (+/-0.115) for {'learning_rate': 0.01, 'max_depth': 1, 'n_estimators': 250}\n",
      "0.811 (+/-0.117) for {'learning_rate': 0.01, 'max_depth': 1, 'n_estimators': 500}\n",
      "0.624 (+/-0.007) for {'learning_rate': 0.01, 'max_depth': 3, 'n_estimators': 5}\n",
      "0.811 (+/-0.069) for {'learning_rate': 0.01, 'max_depth': 3, 'n_estimators': 50}\n",
      "0.83 (+/-0.074) for {'learning_rate': 0.01, 'max_depth': 3, 'n_estimators': 250}\n",
      "0.841 (+/-0.077) for {'learning_rate': 0.01, 'max_depth': 3, 'n_estimators': 500}\n",
      "0.624 (+/-0.007) for {'learning_rate': 0.01, 'max_depth': 5, 'n_estimators': 5}\n",
      "0.822 (+/-0.052) for {'learning_rate': 0.01, 'max_depth': 5, 'n_estimators': 50}\n",
      "0.818 (+/-0.043) for {'learning_rate': 0.01, 'max_depth': 5, 'n_estimators': 250}\n",
      "0.826 (+/-0.047) for {'learning_rate': 0.01, 'max_depth': 5, 'n_estimators': 500}\n",
      "0.624 (+/-0.007) for {'learning_rate': 0.01, 'max_depth': 7, 'n_estimators': 5}\n",
      "0.817 (+/-0.049) for {'learning_rate': 0.01, 'max_depth': 7, 'n_estimators': 50}\n",
      "0.816 (+/-0.038) for {'learning_rate': 0.01, 'max_depth': 7, 'n_estimators': 250}\n",
      "0.805 (+/-0.019) for {'learning_rate': 0.01, 'max_depth': 7, 'n_estimators': 500}\n",
      "0.624 (+/-0.007) for {'learning_rate': 0.01, 'max_depth': 9, 'n_estimators': 5}\n",
      "0.802 (+/-0.054) for {'learning_rate': 0.01, 'max_depth': 9, 'n_estimators': 50}\n",
      "0.802 (+/-0.043) for {'learning_rate': 0.01, 'max_depth': 9, 'n_estimators': 250}\n",
      "0.786 (+/-0.045) for {'learning_rate': 0.01, 'max_depth': 9, 'n_estimators': 500}\n",
      "0.796 (+/-0.115) for {'learning_rate': 0.1, 'max_depth': 1, 'n_estimators': 5}\n",
      "0.815 (+/-0.119) for {'learning_rate': 0.1, 'max_depth': 1, 'n_estimators': 50}\n",
      "0.818 (+/-0.111) for {'learning_rate': 0.1, 'max_depth': 1, 'n_estimators': 250}\n",
      "0.828 (+/-0.092) for {'learning_rate': 0.1, 'max_depth': 1, 'n_estimators': 500}\n",
      "0.813 (+/-0.071) for {'learning_rate': 0.1, 'max_depth': 3, 'n_estimators': 5}\n",
      "0.839 (+/-0.076) for {'learning_rate': 0.1, 'max_depth': 3, 'n_estimators': 50}\n",
      "0.822 (+/-0.024) for {'learning_rate': 0.1, 'max_depth': 3, 'n_estimators': 250}\n",
      "0.809 (+/-0.04) for {'learning_rate': 0.1, 'max_depth': 3, 'n_estimators': 500}\n",
      "0.813 (+/-0.051) for {'learning_rate': 0.1, 'max_depth': 5, 'n_estimators': 5}\n",
      "0.816 (+/-0.032) for {'learning_rate': 0.1, 'max_depth': 5, 'n_estimators': 50}\n",
      "0.813 (+/-0.041) for {'learning_rate': 0.1, 'max_depth': 5, 'n_estimators': 250}\n",
      "0.798 (+/-0.038) for {'learning_rate': 0.1, 'max_depth': 5, 'n_estimators': 500}\n",
      "0.82 (+/-0.054) for {'learning_rate': 0.1, 'max_depth': 7, 'n_estimators': 5}\n",
      "0.792 (+/-0.034) for {'learning_rate': 0.1, 'max_depth': 7, 'n_estimators': 50}\n",
      "0.798 (+/-0.035) for {'learning_rate': 0.1, 'max_depth': 7, 'n_estimators': 250}\n",
      "0.801 (+/-0.042) for {'learning_rate': 0.1, 'max_depth': 7, 'n_estimators': 500}\n",
      "0.8 (+/-0.049) for {'learning_rate': 0.1, 'max_depth': 9, 'n_estimators': 5}\n",
      "0.792 (+/-0.028) for {'learning_rate': 0.1, 'max_depth': 9, 'n_estimators': 50}\n",
      "0.785 (+/-0.021) for {'learning_rate': 0.1, 'max_depth': 9, 'n_estimators': 250}\n",
      "0.794 (+/-0.031) for {'learning_rate': 0.1, 'max_depth': 9, 'n_estimators': 500}\n",
      "0.818 (+/-0.099) for {'learning_rate': 1, 'max_depth': 1, 'n_estimators': 5}\n",
      "0.832 (+/-0.081) for {'learning_rate': 1, 'max_depth': 1, 'n_estimators': 50}\n",
      "0.826 (+/-0.077) for {'learning_rate': 1, 'max_depth': 1, 'n_estimators': 250}\n",
      "0.822 (+/-0.081) for {'learning_rate': 1, 'max_depth': 1, 'n_estimators': 500}\n",
      "0.824 (+/-0.057) for {'learning_rate': 1, 'max_depth': 3, 'n_estimators': 5}\n",
      "0.792 (+/-0.033) for {'learning_rate': 1, 'max_depth': 3, 'n_estimators': 50}\n",
      "0.79 (+/-0.036) for {'learning_rate': 1, 'max_depth': 3, 'n_estimators': 250}\n",
      "0.79 (+/-0.026) for {'learning_rate': 1, 'max_depth': 3, 'n_estimators': 500}\n",
      "0.792 (+/-0.033) for {'learning_rate': 1, 'max_depth': 5, 'n_estimators': 5}\n",
      "0.796 (+/-0.059) for {'learning_rate': 1, 'max_depth': 5, 'n_estimators': 50}\n",
      "0.805 (+/-0.046) for {'learning_rate': 1, 'max_depth': 5, 'n_estimators': 250}\n",
      "0.794 (+/-0.034) for {'learning_rate': 1, 'max_depth': 5, 'n_estimators': 500}\n",
      "0.787 (+/-0.018) for {'learning_rate': 1, 'max_depth': 7, 'n_estimators': 5}\n",
      "0.79 (+/-0.042) for {'learning_rate': 1, 'max_depth': 7, 'n_estimators': 50}\n",
      "0.8 (+/-0.053) for {'learning_rate': 1, 'max_depth': 7, 'n_estimators': 250}\n",
      "0.788 (+/-0.053) for {'learning_rate': 1, 'max_depth': 7, 'n_estimators': 500}\n",
      "0.792 (+/-0.039) for {'learning_rate': 1, 'max_depth': 9, 'n_estimators': 5}\n",
      "0.779 (+/-0.035) for {'learning_rate': 1, 'max_depth': 9, 'n_estimators': 50}\n",
      "0.783 (+/-0.048) for {'learning_rate': 1, 'max_depth': 9, 'n_estimators': 250}\n",
      "0.8 (+/-0.04) for {'learning_rate': 1, 'max_depth': 9, 'n_estimators': 500}\n",
      "0.204 (+/-0.115) for {'learning_rate': 10, 'max_depth': 1, 'n_estimators': 5}\n",
      "0.204 (+/-0.115) for {'learning_rate': 10, 'max_depth': 1, 'n_estimators': 50}\n",
      "0.204 (+/-0.115) for {'learning_rate': 10, 'max_depth': 1, 'n_estimators': 250}\n",
      "0.204 (+/-0.115) for {'learning_rate': 10, 'max_depth': 1, 'n_estimators': 500}\n",
      "0.307 (+/-0.195) for {'learning_rate': 10, 'max_depth': 3, 'n_estimators': 5}\n",
      "0.307 (+/-0.195) for {'learning_rate': 10, 'max_depth': 3, 'n_estimators': 50}\n",
      "0.307 (+/-0.195) for {'learning_rate': 10, 'max_depth': 3, 'n_estimators': 250}\n",
      "0.307 (+/-0.195) for {'learning_rate': 10, 'max_depth': 3, 'n_estimators': 500}\n",
      "0.443 (+/-0.253) for {'learning_rate': 10, 'max_depth': 5, 'n_estimators': 5}\n",
      "0.443 (+/-0.311) for {'learning_rate': 10, 'max_depth': 5, 'n_estimators': 50}\n",
      "0.402 (+/-0.213) for {'learning_rate': 10, 'max_depth': 5, 'n_estimators': 250}\n",
      "0.404 (+/-0.218) for {'learning_rate': 10, 'max_depth': 5, 'n_estimators': 500}\n",
      "0.648 (+/-0.186) for {'learning_rate': 10, 'max_depth': 7, 'n_estimators': 5}\n",
      "0.629 (+/-0.18) for {'learning_rate': 10, 'max_depth': 7, 'n_estimators': 50}\n",
      "0.618 (+/-0.167) for {'learning_rate': 10, 'max_depth': 7, 'n_estimators': 250}\n",
      "0.629 (+/-0.189) for {'learning_rate': 10, 'max_depth': 7, 'n_estimators': 500}\n",
      "0.699 (+/-0.121) for {'learning_rate': 10, 'max_depth': 9, 'n_estimators': 5}\n",
      "0.719 (+/-0.156) for {'learning_rate': 10, 'max_depth': 9, 'n_estimators': 50}\n",
      "0.706 (+/-0.113) for {'learning_rate': 10, 'max_depth': 9, 'n_estimators': 250}\n",
      "0.693 (+/-0.106) for {'learning_rate': 10, 'max_depth': 9, 'n_estimators': 500}\n",
      "0.376 (+/-0.007) for {'learning_rate': 100, 'max_depth': 1, 'n_estimators': 5}\n",
      "0.376 (+/-0.007) for {'learning_rate': 100, 'max_depth': 1, 'n_estimators': 50}\n",
      "0.376 (+/-0.007) for {'learning_rate': 100, 'max_depth': 1, 'n_estimators': 250}\n",
      "0.376 (+/-0.007) for {'learning_rate': 100, 'max_depth': 1, 'n_estimators': 500}\n",
      "0.29 (+/-0.102) for {'learning_rate': 100, 'max_depth': 3, 'n_estimators': 5}\n",
      "0.29 (+/-0.102) for {'learning_rate': 100, 'max_depth': 3, 'n_estimators': 50}\n",
      "0.29 (+/-0.102) for {'learning_rate': 100, 'max_depth': 3, 'n_estimators': 250}\n",
      "0.29 (+/-0.102) for {'learning_rate': 100, 'max_depth': 3, 'n_estimators': 500}\n",
      "0.35 (+/-0.179) for {'learning_rate': 100, 'max_depth': 5, 'n_estimators': 5}\n",
      "0.35 (+/-0.183) for {'learning_rate': 100, 'max_depth': 5, 'n_estimators': 50}\n",
      "0.346 (+/-0.176) for {'learning_rate': 100, 'max_depth': 5, 'n_estimators': 250}\n",
      "0.354 (+/-0.183) for {'learning_rate': 100, 'max_depth': 5, 'n_estimators': 500}\n",
      "0.59 (+/-0.118) for {'learning_rate': 100, 'max_depth': 7, 'n_estimators': 5}\n",
      "0.575 (+/-0.103) for {'learning_rate': 100, 'max_depth': 7, 'n_estimators': 50}\n",
      "0.573 (+/-0.104) for {'learning_rate': 100, 'max_depth': 7, 'n_estimators': 250}\n",
      "0.614 (+/-0.113) for {'learning_rate': 100, 'max_depth': 7, 'n_estimators': 500}\n",
      "0.646 (+/-0.039) for {'learning_rate': 100, 'max_depth': 9, 'n_estimators': 5}\n",
      "0.657 (+/-0.077) for {'learning_rate': 100, 'max_depth': 9, 'n_estimators': 50}\n",
      "0.661 (+/-0.077) for {'learning_rate': 100, 'max_depth': 9, 'n_estimators': 250}\n",
      "0.667 (+/-0.096) for {'learning_rate': 100, 'max_depth': 9, 'n_estimators': 500}\n"
     ]
    }
   ],
   "source": [
    "gb = GradientBoostingClassifier()\n",
    "parameters = {\n",
    "    'n_estimators': [5, 50, 250, 500],\n",
    "    'max_depth': [1, 3, 5, 7, 9],\n",
    "    'learning_rate': [0.01,0.1,1,10,100]\n",
    "}\n",
    "\n",
    "cv = GridSearchCV(gb,parameters,cv=5)\n",
    "cv.fit(tr_features,tr_labels.values.ravel())\n",
    "print_results(cv)"
   ]
  },
  {
   "cell_type": "code",
   "execution_count": 4,
   "metadata": {},
   "outputs": [
    {
     "data": {
      "text/plain": [
       "GradientBoostingClassifier(ccp_alpha=0.0, criterion='friedman_mse', init=None,\n",
       "                           learning_rate=0.01, loss='deviance', max_depth=3,\n",
       "                           max_features=None, max_leaf_nodes=None,\n",
       "                           min_impurity_decrease=0.0, min_impurity_split=None,\n",
       "                           min_samples_leaf=1, min_samples_split=2,\n",
       "                           min_weight_fraction_leaf=0.0, n_estimators=500,\n",
       "                           n_iter_no_change=None, presort='deprecated',\n",
       "                           random_state=None, subsample=1.0, tol=0.0001,\n",
       "                           validation_fraction=0.1, verbose=0,\n",
       "                           warm_start=False)"
      ]
     },
     "execution_count": 4,
     "metadata": {},
     "output_type": "execute_result"
    }
   ],
   "source": [
    "cv.best_estimator_"
   ]
  },
  {
   "cell_type": "markdown",
   "metadata": {},
   "source": [
    "### Write out pickled model"
   ]
  },
  {
   "cell_type": "code",
   "execution_count": 5,
   "metadata": {},
   "outputs": [
    {
     "data": {
      "text/plain": [
       "['C:/Users/VK/MLPython/Ex_Files_Machine_Learning_Algorithms/GB_model.pkl']"
      ]
     },
     "execution_count": 5,
     "metadata": {},
     "output_type": "execute_result"
    }
   ],
   "source": [
    "joblib.dump(cv.best_estimator_,'C:/Users/VK/MLPython/Ex_Files_Machine_Learning_Algorithms/GB_model.pkl')"
   ]
  },
  {
   "cell_type": "code",
   "execution_count": null,
   "metadata": {},
   "outputs": [],
   "source": []
  }
 ],
 "metadata": {
  "kernelspec": {
   "display_name": "Python 3",
   "language": "python",
   "name": "python3"
  },
  "language_info": {
   "codemirror_mode": {
    "name": "ipython",
    "version": 3
   },
   "file_extension": ".py",
   "mimetype": "text/x-python",
   "name": "python",
   "nbconvert_exporter": "python",
   "pygments_lexer": "ipython3",
   "version": "3.7.6"
  }
 },
 "nbformat": 4,
 "nbformat_minor": 2
}
